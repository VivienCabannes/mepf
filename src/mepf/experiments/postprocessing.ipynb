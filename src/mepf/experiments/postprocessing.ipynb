{
 "cells": [
  {
   "cell_type": "code",
   "execution_count": 1,
   "metadata": {},
   "outputs": [],
   "source": [
    "%load_ext autoreload\n",
    "%autoreload 2"
   ]
  },
  {
   "cell_type": "code",
   "execution_count": 111,
   "metadata": {},
   "outputs": [],
   "source": [
    "import argparse\n",
    "import json\n",
    "from pathlib import Path\n",
    "\n",
    "import pandas as pd\n",
    "import numpy as np\n",
    "\n",
    "from mepf.experiments.postprocessing import (\n",
    "    scatter_result,\n",
    "    get_validity,\n",
    "    get_valid_setup,\n",
    "    load_scatter_results,\n",
    "    load_valid_exp\n",
    ")\n",
    "\n",
    "# save_dir = Path.home() / 'Code' / 'entsearch' / 'results'\n",
    "save_dir = Path.home() / 'mepf'\n",
    "res_dir = Path.home() / 'mepf' / 'data'\n",
    "# tolerance on delta\n",
    "tol = .9\n",
    "\n",
    "grid = {\n",
    "    \"method\": [\"ES\", \"AS\", \"TS\", \"HTS\", \"E\", \"SE\", \"HSE\"],\n",
    "    \"problem\": [\"dirichlet\", \"one\", \"two\", \"geometric\"],\n",
    "    \"num_classes\": [3, 10, 30, 100, 300, 1000],\n",
    "    \"delta\": [2 ** -i for i in range(1, 10)],\n",
    "    \"constant\": [0.5, 1, 3, 10, 24],\n",
    "}\n",
    "\n",
    "# scatter_result(save_dir, res_dir, grid)\n",
    "valid_df = get_validity(res_dir, grid, tol=tol)\n",
    "valid_setup = get_valid_setup(valid_df)\n",
    "if valid_setup is None:\n",
    "    raise ValueError(\"No valid setup found\")\n",
    "res = load_valid_exp(res_dir, valid_setup)\n",
    "res.loc[res['nb_queries'] == -1, 'nb_queries'] = np.inf\n",
    "res.loc[res['success'] == False, 'nb_queries'] = np.inf"
   ]
  },
  {
   "cell_type": "code",
   "execution_count": 112,
   "metadata": {},
   "outputs": [
    {
     "data": {
      "text/plain": [
       "[('dirichlet', 10, 0.25),\n",
       " ('dirichlet', 10, 0.5),\n",
       " ('geometric', 10, 0.25),\n",
       " ('geometric', 10, 0.5),\n",
       " ('one', 10, 0.5),\n",
       " ('two', 10, 0.25),\n",
       " ('two', 10, 0.5)]"
      ]
     },
     "execution_count": 112,
     "metadata": {},
     "output_type": "execute_result"
    }
   ],
   "source": [
    "list(valid_setup.groupby(['problem', 'm', 'delta']).mean().index.values)"
   ]
  },
  {
   "cell_type": "code",
   "execution_count": 105,
   "metadata": {},
   "outputs": [],
   "source": [
    "problem = 'geometric'\n",
    "m = 10\n",
    "delta = 2 ** -7\n",
    "num_exp = int(np.ceil(10 / delta)) * 6\n",
    "num_best = int(num_exp * (1 - delta * (1 + tol)))\n",
    "\n",
    "cur = res[(res['delta'] == delta) & (res['m'] == m) & (res['problem'] == problem)]"
   ]
  },
  {
   "cell_type": "code",
   "execution_count": 106,
   "metadata": {},
   "outputs": [
    {
     "name": "stdout",
     "output_type": "stream",
     "text": [
      "ES 0.00156 377.0 $\\pm$ 27.4\n",
      "AS 0.00156 238.0 $\\pm$ 16.3\n",
      "TS 0.00156 165.4 $\\pm$ 34.1\n",
      "HTS 0.00156 169.9 $\\pm$ 29.0\n",
      "E 0.00625 123.0 $\\pm$ 74.7\n",
      "SE 0.00859 214.0 $\\pm$ 117.8\n"
     ]
    }
   ],
   "source": [
    "for method in grid['method']:\n",
    "    tmp = cur[cur['method'] == method]\n",
    "    ordered = tmp.sort_values('nb_queries')[:num_best]\n",
    "    print(method, f\"{(tmp['nb_queries'] == np.inf).mean():.5f}\", rf\"{ordered['nb_queries'].mean():.1f} $\\pm$ {ordered['nb_queries'].std():.1f}\")"
   ]
  },
  {
   "cell_type": "code",
   "execution_count": null,
   "metadata": {},
   "outputs": [],
   "source": []
  }
 ],
 "metadata": {
  "kernelspec": {
   "display_name": "dev",
   "language": "python",
   "name": "python3"
  },
  "language_info": {
   "codemirror_mode": {
    "name": "ipython",
    "version": 3
   },
   "file_extension": ".py",
   "mimetype": "text/x-python",
   "name": "python",
   "nbconvert_exporter": "python",
   "pygments_lexer": "ipython3",
   "version": "3.10.4"
  },
  "orig_nbformat": 4
 },
 "nbformat": 4,
 "nbformat_minor": 2
}
